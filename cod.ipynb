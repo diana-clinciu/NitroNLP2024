{
 "cells": [
  {
   "cell_type": "code",
   "execution_count": null,
   "id": "initial_id",
   "metadata": {
    "collapsed": true
   },
   "outputs": [],
   "source": [
    "# Incercare data processing\n",
    "\n",
    "# Random forest\n",
    "\n",
    "# Pytorch model "
   ]
  },
  {
   "cell_type": "code",
   "execution_count": 1,
   "id": "964dabbf4f33aeb3",
   "metadata": {
    "collapsed": false
   },
   "outputs": [],
   "source": [
    "import numpy as np\n",
    "import pandas as pd\n",
    "import tensorflow as tf\n",
    "import nltk\n",
    "import re\n",
    "import csv\n",
    "import os\n",
    "import pickle\n",
    "from nltk.tokenize import word_tokenize\n",
    "from nltk.stem import WordNetLemmatizer\n",
    "from nltk.corpus import stopwords\n",
    "from sklearn.feature_extraction.text import CountVectorizer\n",
    "from sklearn.linear_model import LogisticRegression\n",
    "from sklearn.ensemble import RandomForestClassifier\n",
    "from sklearn.metrics import f1_score, classification_report\n",
    "from sklearn.metrics import balanced_accuracy_score\n",
    "from sklearn.metrics import confusion_matrix, ConfusionMatrixDisplay\n",
    "from nltk.stem.snowball import SnowballStemmer\n",
    "\n",
    "cv = CountVectorizer()\n",
    "lemmatizer = WordNetLemmatizer()\n",
    "lr = LogisticRegression(max_iter=2000)\n",
    "stemmer = SnowballStemmer(\"romanian\")"
   ]
  },
  {
   "cell_type": "markdown",
   "id": "6d8514fc7c21d193",
   "metadata": {
    "collapsed": false
   },
   "source": [
    "\n",
    "Pre procesarea textului:\n",
    "- eliminarea caracterelor (re)\n",
    "- lematizare (lemmatizer)"
   ]
  },
  {
   "cell_type": "code",
   "execution_count": 38,
   "id": "29d13cb9167e3688",
   "metadata": {
    "collapsed": false
   },
   "outputs": [],
   "source": [
    "# preprocesare de textului\n",
    "def process_text(text):\n",
    "    text = text.lower()\n",
    "    text = re.sub(r'[^a-zA-Z0-9ĂăÂâÎîȘșȚț\\s]', '', text)\n",
    "    \n",
    "    words = word_tokenize(text)\n",
    "    new_text = ' '.join(lemmatize_text(words))\n",
    "    # new_text = ' '.join(stem_text(new_words))\n",
    "    return new_text\n",
    "\n",
    "# lematizarea cuvintelor din text\n",
    "def lemmatize_text(l_words):\n",
    "    words = [lemmatizer.lemmatize(word) for word in l_words]\n",
    "    return words\n",
    "\n",
    "def stem_text(l_words):\n",
    "    words = [stemmer.stem(word) for word in l_words]\n",
    "    return words\n",
    "    "
   ]
  },
  {
   "cell_type": "markdown",
   "id": "f6dca353e41c37ce",
   "metadata": {
    "collapsed": false
   },
   "source": [
    "\n",
    "Loading data"
   ]
  },
  {
   "cell_type": "code",
   "execution_count": 3,
   "id": "c4b229c6ebb82025",
   "metadata": {
    "collapsed": false
   },
   "outputs": [],
   "source": [
    "train = pd.read_csv('data/train.csv')\n",
    "train_data = train[:54000]\n",
    "validation_data = train[54000:]\n",
    "\n",
    "test_data = pd.read_csv('data/test.csv')"
   ]
  },
  {
   "cell_type": "markdown",
   "id": "22057c66a706d8e6",
   "metadata": {
    "collapsed": false
   },
   "source": [
    "\n",
    "Data Visualization"
   ]
  },
  {
   "cell_type": "code",
   "execution_count": null,
   "id": "4e37fce9c53fc6fe",
   "metadata": {
    "collapsed": false
   },
   "outputs": [],
   "source": [
    "train['class'].value_counts(normalize = True).plot.bar()"
   ]
  },
  {
   "cell_type": "code",
   "execution_count": null,
   "id": "f76b1521d316b08",
   "metadata": {
    "collapsed": false
   },
   "outputs": [],
   "source": [
    "train_data.head()"
   ]
  },
  {
   "cell_type": "code",
   "execution_count": null,
   "id": "a6f3a3301bedc931",
   "metadata": {
    "collapsed": false
   },
   "outputs": [],
   "source": [
    "test_data.head()"
   ]
  },
  {
   "cell_type": "markdown",
   "id": "ebb043c073a9a14",
   "metadata": {
    "collapsed": false
   },
   "source": [
    "\n",
    "Manage missing data\n",
    "replace the missing content with the title\n",
    "save the updated data in new .csv files - for later use"
   ]
  },
  {
   "cell_type": "code",
   "execution_count": 4,
   "id": "eac5021c890167ec",
   "metadata": {
    "collapsed": false
   },
   "outputs": [],
   "source": [
    "def fill_content(data):\n",
    "    train_data_content = list(data['content'])\n",
    "    train_data_title = list(data['title'])\n",
    "    new_content = []\n",
    "    for i in range(len(train_data_content)):\n",
    "        if isinstance(train_data_content[i], str):\n",
    "            new_content.append(train_data_content[i])\n",
    "        else:\n",
    "            new_content.append(train_data_title[i])\n",
    "        \n",
    "    return new_content"
   ]
  },
  {
   "cell_type": "code",
   "execution_count": null,
   "id": "62f6c44d405f0509",
   "metadata": {
    "collapsed": false
   },
   "outputs": [],
   "source": [
    "train_data.loc[:,'content'] = fill_content(train_data)\n",
    "validation_data.loc[:,'content'] = fill_content(validation_data)\n",
    "test_data.loc[:,'content'] = fill_content(test_data)"
   ]
  },
  {
   "cell_type": "code",
   "execution_count": null,
   "id": "a29f500fbe2b92e8",
   "metadata": {
    "collapsed": false
   },
   "outputs": [],
   "source": [
    "def fill_title(data):\n",
    "    train_data_content = list(data['content'])\n",
    "    train_data_title = list(data['title'])\n",
    "    new_content = []\n",
    "    for i in range(len(train_data_content)):\n",
    "        if isinstance(train_data_title[i], str):\n",
    "            new_content.append(train_data_title[i])\n",
    "        else:\n",
    "            new_title = train_data_content[i].split(\".\")[1]\n",
    "            new_content.append(new_title)\n",
    "        \n",
    "    return new_content"
   ]
  },
  {
   "cell_type": "code",
   "execution_count": null,
   "id": "92242e6ee253b578",
   "metadata": {
    "collapsed": false
   },
   "outputs": [],
   "source": [
    "train_data.loc[:,'title'] = fill_title(train_data)\n",
    "validation_data.loc[:,'title'] = fill_title(validation_data)\n",
    "test_data.loc[:,'title'] = fill_title(test_data)"
   ]
  },
  {
   "cell_type": "markdown",
   "id": "bf7413e8871c01b0",
   "metadata": {
    "collapsed": false
   },
   "source": [
    "\n",
    "Vectorize"
   ]
  },
  {
   "cell_type": "code",
   "execution_count": null,
   "id": "5a0e215982d2e5b2",
   "metadata": {
    "collapsed": false
   },
   "outputs": [],
   "source": [
    "train_content = cv.fit_transform(train_data['content'])\n",
    "validation_content = cv.transform(validation_data['content'])\n",
    "test_content = cv.transform(test_data['content'])"
   ]
  },
  {
   "cell_type": "code",
   "execution_count": null,
   "id": "f3b83cb7f773693f",
   "metadata": {
    "collapsed": false
   },
   "outputs": [],
   "source": [
    "train_label = train_data['class']\n",
    "validation_label = validation_data['class']"
   ]
  },
  {
   "cell_type": "markdown",
   "id": "f86e3f2c3d6c33af",
   "metadata": {
    "collapsed": false
   },
   "source": [
    "\n",
    "MODEL 1:  Random forest "
   ]
  },
  {
   "cell_type": "code",
   "execution_count": null,
   "id": "a927772156d6c886",
   "metadata": {
    "collapsed": false
   },
   "outputs": [],
   "source": [
    "model_rf = RandomForestClassifier(n_estimators=100)\n",
    "model_rf.fit(train_content, train_label)"
   ]
  },
  {
   "cell_type": "code",
   "execution_count": null,
   "id": "92f1b2618f58ab9a",
   "metadata": {
    "collapsed": false
   },
   "outputs": [],
   "source": [
    "predict_rf_validation = model_rf.predict(validation_content)"
   ]
  },
  {
   "cell_type": "code",
   "execution_count": null,
   "id": "5f1272db3262355",
   "metadata": {
    "collapsed": false
   },
   "outputs": [],
   "source": [
    "predict_rf_test = model_rf.predict(test_content)"
   ]
  },
  {
   "cell_type": "markdown",
   "id": "686aab32945df7a2",
   "metadata": {
    "collapsed": false
   },
   "source": [
    "\n",
    "Accuracy"
   ]
  },
  {
   "cell_type": "code",
   "execution_count": null,
   "id": "b8f025d4d9c4d90e",
   "metadata": {
    "collapsed": false
   },
   "outputs": [],
   "source": [
    "def display_accuracy(predict_label, actual_label):\n",
    "    accuracy = f1_score(predict_label, actual_label)\n",
    "    print(f'Acuratete f1: {accuracy}')\n",
    "    \n",
    "    acc = balanced_accuracy_score(predict_label, actual_label)\n",
    "    print(f'Acuratete balanced: ', acc)\n",
    "    \n",
    "    print('Raport de clasificare:')\n",
    "    print(classification_report(predict_label, actual_label))"
   ]
  },
  {
   "cell_type": "code",
   "execution_count": null,
   "id": "80c1441bd9aa6",
   "metadata": {
    "collapsed": false
   },
   "outputs": [],
   "source": [
    "display_accuracy(predict_rf_validation, validation_label)"
   ]
  },
  {
   "cell_type": "markdown",
   "id": "20651420648df7ed",
   "metadata": {
    "collapsed": false
   },
   "source": [
    "\n",
    "Test submission file"
   ]
  },
  {
   "cell_type": "code",
   "execution_count": null,
   "id": "a37b7f7b30543ec1",
   "metadata": {
    "collapsed": false
   },
   "outputs": [],
   "source": [
    "def write_csv_file(prediction_label, test_content, file_name):\n",
    "    with open(file_name, 'w', newline='') as f:\n",
    "        writer = csv.writer(f)\n",
    "        writer.writerow(['id', 'class'])\n",
    "        \n",
    "        for i in range(test_content.shape[0]):\n",
    "            label = 1 if prediction_label[i] else 0\n",
    "            writer.writerow([i, label])"
   ]
  },
  {
   "cell_type": "code",
   "execution_count": null,
   "id": "c60cf3b052d8e116",
   "metadata": {
    "collapsed": false
   },
   "outputs": [],
   "source": [
    "write_csv_file(predict_rf_test, test_content, 'submissions/submission_rf.csv')"
   ]
  },
  {
   "cell_type": "markdown",
   "id": "1e341c7c740dcc4d",
   "metadata": {
    "collapsed": false
   },
   "source": [
    "\n",
    "MODEL LOGISTIC REGRESSION"
   ]
  },
  {
   "cell_type": "code",
   "execution_count": null,
   "id": "8855391bcf17038a",
   "metadata": {
    "collapsed": false
   },
   "outputs": [],
   "source": [
    "lr.fit(train_content, train_label)\n",
    "predictions_lr_test = lr.predict(test_content)\n",
    "predictions_lr_validation = lr.predict(validation_content)"
   ]
  },
  {
   "cell_type": "code",
   "execution_count": null,
   "id": "c3181ec56a6eedb8",
   "metadata": {
    "collapsed": false
   },
   "outputs": [],
   "source": [
    "display_accuracy(predictions_lr_validation, validation_label)"
   ]
  },
  {
   "cell_type": "code",
   "execution_count": null,
   "id": "533eda82a5504ed0",
   "metadata": {
    "collapsed": false
   },
   "outputs": [],
   "source": [
    "cm_lr = confusion_matrix(validation_label,predictions_lr_validation)"
   ]
  },
  {
   "cell_type": "code",
   "execution_count": null,
   "id": "89d3a1897e3342ed",
   "metadata": {
    "collapsed": false
   },
   "outputs": [],
   "source": [
    "disp_lr = ConfusionMatrixDisplay(confusion_matrix=cm_lr)\n",
    "disp_lr.plot()"
   ]
  },
  {
   "cell_type": "markdown",
   "id": "31b195267aed1cc1",
   "metadata": {
    "collapsed": false
   },
   "source": [
    "\n",
    "\n",
    "MODEL 2: Fully Connected Network"
   ]
  },
  {
   "cell_type": "code",
   "execution_count": null,
   "id": "fe054dba7a2f6faf",
   "metadata": {
    "collapsed": false
   },
   "outputs": [],
   "source": [
    "model_retea = tf.keras.Sequential([\n",
    "    tf.keras.layers.Dense(128, activation='relu', input_shape=(train_content.shape[1],)),\n",
    "    tf.keras.layers.Dense(64, activation='relu'),\n",
    "    tf.keras.layers.Dense(1, activation='sigmoid')\n",
    "])"
   ]
  },
  {
   "cell_type": "code",
   "execution_count": null,
   "id": "978f402a6db9bb9e",
   "metadata": {
    "collapsed": false
   },
   "outputs": [],
   "source": [
    "model_retea.compile(optimizer='adam',\n",
    "              loss='binary_crossentropy',\n",
    "              metrics=['accuracy'])"
   ]
  },
  {
   "cell_type": "code",
   "execution_count": null,
   "id": "41acbc34caedde7e",
   "metadata": {
    "collapsed": false
   },
   "outputs": [],
   "source": [
    "model_retea.fit(train_content, train_label, epochs=10, batch_size=32, validation_data=(validation_content, validation_label))"
   ]
  },
  {
   "cell_type": "code",
   "execution_count": null,
   "id": "eb9e5407edde1220",
   "metadata": {
    "collapsed": false
   },
   "outputs": [],
   "source": [
    "predict_retea_test = (model_retea.predict(test_content) > 0.5).astype(int)"
   ]
  },
  {
   "cell_type": "code",
   "execution_count": null,
   "id": "f61c2d14ba3a1a2a",
   "metadata": {
    "collapsed": false
   },
   "outputs": [],
   "source": [
    "predict_retea_validation = (model_retea.predict(validation_content) > 0.5).astype(int)"
   ]
  },
  {
   "cell_type": "markdown",
   "id": "273f53d78da2adb4",
   "metadata": {
    "collapsed": false
   },
   "source": [
    "\n",
    "Display accuracy"
   ]
  },
  {
   "cell_type": "code",
   "execution_count": null,
   "id": "8be6aa616926d1c2",
   "metadata": {
    "collapsed": false
   },
   "outputs": [],
   "source": [
    "display_accuracy(predict_retea_validation, validation_label)"
   ]
  },
  {
   "cell_type": "markdown",
   "id": "4bf8e158508c4bc4",
   "metadata": {
    "collapsed": false
   },
   "source": [
    "Write submission"
   ]
  },
  {
   "cell_type": "code",
   "execution_count": null,
   "id": "88d47bf2568e1951",
   "metadata": {
    "collapsed": false
   },
   "outputs": [],
   "source": [
    "write_csv_file(predict_retea_test,test_content, 'submissions/submission_retea.csv' )"
   ]
  },
  {
   "cell_type": "markdown",
   "id": "9082468838785df1",
   "metadata": {
    "collapsed": false
   },
   "source": [
    "\n",
    "\n",
    "MODEL 3: retea 2"
   ]
  },
  {
   "cell_type": "code",
   "execution_count": null,
   "id": "84ff8d90acb65a44",
   "metadata": {
    "collapsed": false
   },
   "outputs": [],
   "source": [
    "model_retea_2 = tf.keras.Sequential([\n",
    "    tf.keras.layers.Dense(128, activation='relu', input_shape=(train_content.shape[1],)),\n",
    "    tf.keras.layers.Dropout(0.5), \n",
    "    tf.keras.layers.Dense(64, activation='relu', kernel_regularizer=tf.keras.regularizers.l2(0.001)),\n",
    "    tf.keras.layers.Dropout(0.3),  \n",
    "    tf.keras.layers.Dense(1, activation='sigmoid')\n",
    "])"
   ]
  },
  {
   "cell_type": "code",
   "execution_count": null,
   "id": "d92ec91924b62a7b",
   "metadata": {
    "collapsed": false
   },
   "outputs": [],
   "source": [
    "optimizer = tf.keras.optimizers.Adam(learning_rate=0.001)\n",
    "model_retea_2.compile(optimizer=optimizer,\n",
    "                      loss='binary_crossentropy',\n",
    "                      metrics=['accuracy'])"
   ]
  },
  {
   "cell_type": "code",
   "execution_count": null,
   "id": "95269246d2eb8c9c",
   "metadata": {
    "collapsed": false,
    "is_executing": true
   },
   "outputs": [],
   "source": [
    "model_retea_2.fit(train_content, train_label, epochs=20, batch_size=32, validation_data=(validation_content, validation_label))"
   ]
  },
  {
   "cell_type": "code",
   "execution_count": null,
   "id": "45ef21b2b1359cc8",
   "metadata": {
    "collapsed": false
   },
   "outputs": [],
   "source": [
    "model_retea_2.fit(train_content, train_label, epochs=20, batch_size=32, validation_data=(validation_content, validation_label))"
   ]
  },
  {
   "cell_type": "code",
   "execution_count": null,
   "id": "207fdf1003b87e79",
   "metadata": {
    "collapsed": false
   },
   "outputs": [],
   "source": [
    "predict_retea_2_test = (model_retea_2.predict(test_content) > 0.5).astype(int)"
   ]
  },
  {
   "cell_type": "code",
   "execution_count": null,
   "id": "22017e77497efe9c",
   "metadata": {
    "collapsed": false
   },
   "outputs": [],
   "source": [
    "predict_retea_2_validation = (model_retea_2.predict(validation_content) > 0.5).astype(int)"
   ]
  },
  {
   "cell_type": "markdown",
   "id": "f98cfd928a4235e9",
   "metadata": {
    "collapsed": false
   },
   "source": [
    "\n",
    "Accuracy"
   ]
  },
  {
   "cell_type": "code",
   "execution_count": null,
   "id": "ae16206442b3f5fe",
   "metadata": {
    "collapsed": false
   },
   "outputs": [],
   "source": [
    "display_accuracy(predict_retea_2_validation, validation_label)"
   ]
  },
  {
   "cell_type": "markdown",
   "id": "77b6f80af9ff6cc9",
   "metadata": {
    "collapsed": false
   },
   "source": [
    "\n",
    "Submission file"
   ]
  },
  {
   "cell_type": "code",
   "execution_count": null,
   "id": "2d61ad7c3492830c",
   "metadata": {
    "collapsed": false
   },
   "outputs": [],
   "source": [
    "write_csv_file(predict_retea_test, test_content, 'submissions/submission_retea_2.csv')"
   ]
  },
  {
   "cell_type": "markdown",
   "id": "6a85985ae6aa8f8",
   "metadata": {
    "collapsed": false
   },
   "source": [
    "\n",
    "Save trained models in folder 'models'"
   ]
  },
  {
   "cell_type": "code",
   "execution_count": null,
   "id": "920fa1fa06cb3b33",
   "metadata": {
    "collapsed": false
   },
   "outputs": [],
   "source": [
    "if not os.path.exists('models'):\n",
    "    os.makedirs('models')\n",
    "path = 'models'"
   ]
  },
  {
   "cell_type": "code",
   "execution_count": null,
   "id": "a605e25d4845f38f",
   "metadata": {
    "collapsed": false
   },
   "outputs": [],
   "source": [
    "def save_model(file_name, model):\n",
    "    complete_path = path + '/' + file_name\n",
    "    with open(complete_path, 'wb') as file:\n",
    "        pickle.dump(model, file)\n",
    "\n",
    "    print(f\"Modelul a fost salvat în fișierul: '{complete_path}'\")\n",
    "    \n",
    "def load_model(file_name):\n",
    "    complete_path = path + '/' + file_name\n",
    "    loaded_model = pickle.load(open(complete_path, 'rb'))\n",
    "    return loaded_model"
   ]
  },
  {
   "cell_type": "code",
   "execution_count": null,
   "id": "e14c581fe2c14eac",
   "metadata": {
    "collapsed": false
   },
   "outputs": [],
   "source": [
    "save_model('random_forest_model.pkl', model_rf)"
   ]
  },
  {
   "cell_type": "code",
   "execution_count": null,
   "id": "af88edfab06b8ae8",
   "metadata": {
    "collapsed": false
   },
   "outputs": [],
   "source": [
    "save_model('retea_model.pkl', model_retea)"
   ]
  },
  {
   "cell_type": "code",
   "execution_count": null,
   "id": "ae9563cb23656f77",
   "metadata": {
    "collapsed": false
   },
   "outputs": [],
   "source": [
    "save_model('retea_2_model.pkl', model_retea_2)"
   ]
  },
  {
   "cell_type": "code",
   "execution_count": null,
   "id": "15847c7015d46edb",
   "metadata": {
    "collapsed": false
   },
   "outputs": [],
   "source": [
    "save_model('logistic_regression_model.pkl', lr)"
   ]
  },
  {
   "cell_type": "code",
   "execution_count": null,
   "id": "f25acd36c599fc0e",
   "metadata": {
    "collapsed": false
   },
   "outputs": [],
   "source": [
    "rf_loaded = load_model('random_forest_model.pkl')\n",
    "predict_rf_validation = rf_loaded.predict(validation_content)"
   ]
  },
  {
   "cell_type": "code",
   "execution_count": null,
   "id": "781373a4cd04e298",
   "metadata": {
    "collapsed": false
   },
   "outputs": [],
   "source": [
    "display_accuracy(predict_rf_validation, validation_label)"
   ]
  },
  {
   "cell_type": "code",
   "execution_count": null,
   "id": "1c506dc8b27984e",
   "metadata": {
    "collapsed": false
   },
   "outputs": [],
   "source": [
    "cm_rf = confusion_matrix(validation_label, predict_rf_validation)\n",
    "disp_rf = ConfusionMatrixDisplay(confusion_matrix=cm_rf)\n",
    "disp_rf.plot()"
   ]
  }
 ],
 "metadata": {
  "kernelspec": {
   "display_name": "Python 3",
   "language": "python",
   "name": "python3"
  },
  "language_info": {
   "codemirror_mode": {
    "name": "ipython",
    "version": 3
   },
   "file_extension": ".py",
   "mimetype": "text/x-python",
   "name": "python",
   "nbconvert_exporter": "python",
   "pygments_lexer": "ipython3",
   "version": "3.9.13"
  }
 },
 "nbformat": 4,
 "nbformat_minor": 5
}
